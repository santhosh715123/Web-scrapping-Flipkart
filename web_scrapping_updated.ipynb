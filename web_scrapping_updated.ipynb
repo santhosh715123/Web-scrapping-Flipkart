{
  "nbformat": 4,
  "nbformat_minor": 0,
  "metadata": {
    "colab": {
      "name": "web scrapping-flipkart.ipynb",
      "provenance": [],
      "collapsed_sections": []
    },
    "kernelspec": {
      "name": "python3",
      "display_name": "Python 3"
    },
    "language_info": {
      "name": "python"
    }
  },
  "cells": [
    {
      "cell_type": "code",
      "metadata": {
        "colab": {
          "base_uri": "https://localhost:8080/"
        },
        "id": "SHu3Lu3ywJuq",
        "outputId": "114d30bd-4875-4c0a-8d73-f631ee697544"
      },
      "source": [
        "!pip install bs4\n"
      ],
      "execution_count": 1,
      "outputs": [
        {
          "output_type": "stream",
          "text": [
            "Requirement already satisfied: bs4 in /usr/local/lib/python3.7/dist-packages (0.0.1)\n",
            "Requirement already satisfied: beautifulsoup4 in /usr/local/lib/python3.7/dist-packages (from bs4) (4.6.3)\n"
          ],
          "name": "stdout"
        }
      ]
    },
    {
      "cell_type": "code",
      "metadata": {
        "id": "7-93vreEwdRF"
      },
      "source": [
        "from bs4 import BeautifulSoup \n",
        "import requests \n",
        "import csv\n",
        "import pandas as pd"
      ],
      "execution_count": 2,
      "outputs": []
    },
    {
      "cell_type": "code",
      "metadata": {
        "id": "tmDBChxgweEK"
      },
      "source": [
        "url=\"https://www.flipkart.com/search?q=laptop&otracker=search&otracker1=search&marketplace=FLIPKART&as-show=on&as=off&as-pos=1&as-type=HISTORY\"\n",
        "\n",
        "response = requests.get(url)\n",
        "\n",
        "htmlcontent = response.content\n",
        "\n",
        "soup = BeautifulSoup(htmlcontent,\"html.parser\")\n",
        "\n",
        "#print(soup.prettify)"
      ],
      "execution_count": 11,
      "outputs": []
    },
    {
      "cell_type": "code",
      "metadata": {
        "colab": {
          "base_uri": "https://localhost:8080/"
        },
        "id": "qFAEAdCSwee6",
        "outputId": "3aa44ef5-18f8-44b5-a0e3-3a99c44e34fc"
      },
      "source": [
        "products=[]\n",
        "prices=[]\n",
        "ratings=[]\n",
        "product=soup.find('div',attrs={'class':'_4rR01T'})\n",
        "print(product.text)"
      ],
      "execution_count": 12,
      "outputs": [
        {
          "output_type": "stream",
          "text": [
            "HP Pavilion Gaming Ryzen 5 Hexa Core 4600H - (8 GB/1 TB HDD/Windows 10 Home/4 GB Graphics/NVIDIA GeFor...\n"
          ],
          "name": "stdout"
        }
      ]
    },
    {
      "cell_type": "code",
      "metadata": {
        "id": "RbzYW4RTxICg"
      },
      "source": [
        "for a in soup.findAll('a',href=True, attrs={'class':'_1fQZEK'}):\n",
        "\n",
        "  name=a.find('div',attrs={'class':'_4rR01T'})\n",
        "\n",
        "  price=a.find('div',attrs={'class':'_30jeq3 _1_WHN1'})\n",
        "\n",
        "  rating=a.find('div',attrs={'class':'_3LWZlK'})\n",
        "\n",
        "  products.append(name.text)\n",
        "\n",
        "  prices.append(price.text)\n",
        "\n",
        "  ratings.append(rating.text)"
      ],
      "execution_count": 13,
      "outputs": []
    },
    {
      "cell_type": "code",
      "metadata": {
        "colab": {
          "base_uri": "https://localhost:8080/",
          "height": 204
        },
        "id": "nY7oEOVpxH_V",
        "outputId": "ffe3b694-934a-4542-de2d-18e17c4fa0f7"
      },
      "source": [
        "import pandas as pd\n",
        "\n",
        "df = pd.DataFrame({'Product Name':products,'Prices':prices,'Ratings':ratings})\n",
        "\n",
        "df.head()"
      ],
      "execution_count": 14,
      "outputs": [
        {
          "output_type": "execute_result",
          "data": {
            "text/html": [
              "<div>\n",
              "<style scoped>\n",
              "    .dataframe tbody tr th:only-of-type {\n",
              "        vertical-align: middle;\n",
              "    }\n",
              "\n",
              "    .dataframe tbody tr th {\n",
              "        vertical-align: top;\n",
              "    }\n",
              "\n",
              "    .dataframe thead th {\n",
              "        text-align: right;\n",
              "    }\n",
              "</style>\n",
              "<table border=\"1\" class=\"dataframe\">\n",
              "  <thead>\n",
              "    <tr style=\"text-align: right;\">\n",
              "      <th></th>\n",
              "      <th>Product Name</th>\n",
              "      <th>Prices</th>\n",
              "      <th>Ratings</th>\n",
              "    </tr>\n",
              "  </thead>\n",
              "  <tbody>\n",
              "    <tr>\n",
              "      <th>0</th>\n",
              "      <td>HP Pavilion Gaming Ryzen 5 Hexa Core 4600H - (...</td>\n",
              "      <td>₹56,990</td>\n",
              "      <td>4.2</td>\n",
              "    </tr>\n",
              "    <tr>\n",
              "      <th>1</th>\n",
              "      <td>HP OMEN 15 Ryzen 7 Octa Core 5800H - (16 GB/1 ...</td>\n",
              "      <td>₹1,29,990</td>\n",
              "      <td>4.8</td>\n",
              "    </tr>\n",
              "    <tr>\n",
              "      <th>2</th>\n",
              "      <td>HP 15s Ryzen 3 Dual Core 3250U - (8 GB/1 TB HD...</td>\n",
              "      <td>₹36,490</td>\n",
              "      <td>4.2</td>\n",
              "    </tr>\n",
              "    <tr>\n",
              "      <th>3</th>\n",
              "      <td>DELL Inspiron 3505 Ryzen 3 Dual Core 3250U - (...</td>\n",
              "      <td>₹35,750</td>\n",
              "      <td>4.2</td>\n",
              "    </tr>\n",
              "    <tr>\n",
              "      <th>4</th>\n",
              "      <td>HP 15s Ryzen 3 Dual Core 3250U - (4 GB/1 TB HD...</td>\n",
              "      <td>₹31,990</td>\n",
              "      <td>3.9</td>\n",
              "    </tr>\n",
              "  </tbody>\n",
              "</table>\n",
              "</div>"
            ],
            "text/plain": [
              "                                        Product Name     Prices Ratings\n",
              "0  HP Pavilion Gaming Ryzen 5 Hexa Core 4600H - (...    ₹56,990     4.2\n",
              "1  HP OMEN 15 Ryzen 7 Octa Core 5800H - (16 GB/1 ...  ₹1,29,990     4.8\n",
              "2  HP 15s Ryzen 3 Dual Core 3250U - (8 GB/1 TB HD...    ₹36,490     4.2\n",
              "3  DELL Inspiron 3505 Ryzen 3 Dual Core 3250U - (...    ₹35,750     4.2\n",
              "4  HP 15s Ryzen 3 Dual Core 3250U - (4 GB/1 TB HD...    ₹31,990     3.9"
            ]
          },
          "metadata": {
            "tags": []
          },
          "execution_count": 14
        }
      ]
    },
    {
      "cell_type": "code",
      "metadata": {
        "id": "0P4mgeui0rEI"
      },
      "source": [
        ""
      ],
      "execution_count": null,
      "outputs": []
    },
    {
      "cell_type": "code",
      "metadata": {
        "id": "JqIPTqjyxH8c"
      },
      "source": [
        ""
      ],
      "execution_count": null,
      "outputs": []
    }
  ]
}